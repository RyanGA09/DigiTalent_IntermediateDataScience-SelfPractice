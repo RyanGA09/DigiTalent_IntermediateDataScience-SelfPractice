{
 "cells": [
  {
   "cell_type": "markdown",
   "id": "6eea047b",
   "metadata": {},
   "source": [
    "# Self Practice 5 - Modeling Application\n",
    "___"
   ]
  },
  {
   "cell_type": "markdown",
   "id": "3eb2e814",
   "metadata": {},
   "source": [
    "## Material\n",
    "\n",
    "### **Practice Material**\n",
    "\n",
    "- [](#)\n",
    "- [](#)\n",
    "- [](#)\n",
    "- [](#)\n",
    "- [](#)\n",
    "- [](#)\n",
    "\n",
    "### **Library Material**\n",
    "\n",
    "- Pandas\n",
    "- Scikit-Learn\n",
    "- Matplotlib\n",
    "- Seaborn"
   ]
  },
  {
   "cell_type": "markdown",
   "id": "ae5d5032",
   "metadata": {},
   "source": [
    "## Import Library"
   ]
  },
  {
   "cell_type": "code",
   "execution_count": null,
   "id": "99441472",
   "metadata": {},
   "outputs": [],
   "source": [
    "from sklearn.datasets import load_iris\n",
    "import pandas as pd\n",
    "from sklearn.model_selection import train_test_split\n",
    "import tensorflow as tf\n",
    "from tensorflow import keras\n",
    "from tensorflow.keras import layers"
   ]
  },
  {
   "cell_type": "markdown",
   "id": "b0371e1e",
   "metadata": {},
   "source": [
    "## Load Data"
   ]
  },
  {
   "cell_type": "code",
   "execution_count": null,
   "id": "58beff21",
   "metadata": {},
   "outputs": [],
   "source": [
    "iris = load_iris()\n",
    "df = pd.DataFrame(data=iris.data, columns=iris.feature_names)\n",
    "print(df.head())"
   ]
  },
  {
   "cell_type": "markdown",
   "id": "894ed4eb",
   "metadata": {},
   "source": [
    "## Data Process"
   ]
  },
  {
   "cell_type": "code",
   "execution_count": null,
   "id": "96bb9fc4",
   "metadata": {},
   "outputs": [],
   "source": [
    "# Asumsikan anda memiliki datagrame bernama 'data' yang telah anda proses sebelumnya\n",
    "# Ganti 'data' dengan nama DataFrame yang sebenarnya\n",
    "\n",
    "# Misalkan kolom 'label' adalah kolom yang berisi label atau target\n",
    "# Kolom - kolom lainnya adalah fitur - fiturnya\n",
    "\n",
    "X = df.drop('label', axis=1) # feature\n",
    "y = df['label'] # label\n",
    "\n",
    "# Bagi data menjadi set pelatihan dan pengujian dengan proporsi 80% pelatihan dan 20% pengujian\n",
    "X_train, X_test, y_train, y_test = train_test_split(X, y, test_size=0.2, random_state=42)\n",
    "\n",
    "# Sekarang anda memiliki:\n",
    "# - X_train: Fitur untuk set pelatihan\n",
    "# - X_test: Fitur untuk set pengujian\n",
    "# - y_train: label untuk set pelatihan\n",
    "# - y_test: label untuk set pengujian"
   ]
  },
  {
   "cell_type": "markdown",
   "id": "5ff3e4a7",
   "metadata": {},
   "source": [
    "## Create Neural Network Model"
   ]
  },
  {
   "cell_type": "code",
   "execution_count": null,
   "id": "66850f45",
   "metadata": {},
   "outputs": [],
   "source": [
    "# Assuming have preprocessed data in X_train, y_train, X_test, y_test\n",
    "\n",
    "# Define model\n",
    "model = keras.Sequential([\n",
    "    layers.Dense(64, activation='relu', input_shape=(X_train.shape[1,])), # Input layer with appropriate input shape\n",
    "    layers.Dense(32, activatio='relu'), # Hidden layer\n",
    "    layers.Dense(1, activation='sigmoid') # Output layer for binary classification\n",
    "])\n",
    "\n",
    "# Compile the model\n",
    "model.compile(optimizer='adam',\n",
    "              loss='binary_crossentropy', # Choose appropriate loss function for the task\n",
    "              metrics=['accucary'])\n",
    "\n",
    "# Train the model\n",
    "model.fit(X_train, y_train, epochs=10, batch_size=12, validation_data=(X_test, y_test))\n",
    "\n",
    "# Evaluate the model\n",
    "loss, accuracy = model.evaluate(X_test, y_test)\n",
    "print(\"Test accuracy = \", accuracy)"
   ]
  },
  {
   "cell_type": "markdown",
   "id": "72c7f4dc",
   "metadata": {},
   "source": [
    "## Evaluate Model"
   ]
  },
  {
   "cell_type": "markdown",
   "id": "3db9127b",
   "metadata": {},
   "source": []
  }
 ],
 "metadata": {
  "kernelspec": {
   "display_name": "Python 3",
   "language": "python",
   "name": "python3"
  },
  "language_info": {
   "codemirror_mode": {
    "name": "ipython",
    "version": 3
   },
   "file_extension": ".py",
   "mimetype": "text/x-python",
   "name": "python",
   "nbconvert_exporter": "python",
   "pygments_lexer": "ipython3",
   "version": "3.11.5"
  }
 },
 "nbformat": 4,
 "nbformat_minor": 5
}
