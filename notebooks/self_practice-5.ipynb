{
 "cells": [
  {
   "cell_type": "markdown",
   "id": "6eea047b",
   "metadata": {},
   "source": [
    "# Self Practice 5\n",
    "___"
   ]
  },
  {
   "cell_type": "markdown",
   "id": "3eb2e814",
   "metadata": {},
   "source": [
    "## Material"
   ]
  },
  {
   "cell_type": "code",
   "execution_count": null,
   "id": "58beff21",
   "metadata": {},
   "outputs": [],
   "source": []
  }
 ],
 "metadata": {
  "language_info": {
   "name": "python"
  }
 },
 "nbformat": 4,
 "nbformat_minor": 5
}
