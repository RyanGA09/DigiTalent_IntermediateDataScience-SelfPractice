{
 "cells": [
  {
   "cell_type": "markdown",
   "id": "6eea047b",
   "metadata": {},
   "source": [
    "# Self Practice 5\n",
    "___"
   ]
  },
  {
   "cell_type": "markdown",
   "id": "3eb2e814",
   "metadata": {},
   "source": []
  }
 ],
 "metadata": {
  "language_info": {
   "name": "python"
  }
 },
 "nbformat": 4,
 "nbformat_minor": 5
}
