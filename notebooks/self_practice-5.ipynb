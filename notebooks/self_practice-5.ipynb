{
 "cells": [
  {
   "cell_type": "markdown",
   "id": "6eea047b",
   "metadata": {},
   "source": [
    "# Self Practice 5 - Modeling Application\n",
    "___"
   ]
  },
  {
   "cell_type": "markdown",
   "id": "3eb2e814",
   "metadata": {},
   "source": [
    "## Material\n",
    "\n",
    "### **Practice Material**\n",
    "\n",
    "- [](#)\n",
    "- [](#)\n",
    "- [](#)\n",
    "- [](#)\n",
    "- [](#)\n",
    "- [](#)\n",
    "\n",
    "### **Library Material**\n",
    "\n",
    "- Pandas\n",
    "- Scikit-Learn\n",
    "- Matplotlib\n",
    "- Seaborn"
   ]
  },
  {
   "cell_type": "markdown",
   "id": "99588762",
   "metadata": {},
   "source": [
    "## Neural Network"
   ]
  },
  {
   "cell_type": "markdown",
   "id": "ae5d5032",
   "metadata": {},
   "source": [
    "### Import Library"
   ]
  },
  {
   "cell_type": "code",
   "execution_count": null,
   "id": "99441472",
   "metadata": {},
   "outputs": [],
   "source": [
    "import pandas as pd\n",
    "import matplotlib.pyplot as plt\n",
    "import seaborn as sns\n",
    "from sklearn.datasets import load_iris\n",
    "from sklearn.model_selection import train_test_split\n",
    "from sklearn.metrics import accuracy_score, classification_report, confusion_matrix\n",
    "import tensorflow as tf\n",
    "from tensorflow import keras\n",
    "from tensorflow.keras import layers"
   ]
  },
  {
   "cell_type": "markdown",
   "id": "b0371e1e",
   "metadata": {},
   "source": [
    "### Load Data"
   ]
  },
  {
   "cell_type": "code",
   "execution_count": null,
   "id": "58beff21",
   "metadata": {},
   "outputs": [],
   "source": [
    "iris = load_iris()\n",
    "df = pd.DataFrame(data=iris.data, columns=iris.feature_names)\n",
    "print(df.head())"
   ]
  },
  {
   "cell_type": "markdown",
   "id": "894ed4eb",
   "metadata": {},
   "source": [
    "### Data Process"
   ]
  },
  {
   "cell_type": "code",
   "execution_count": null,
   "id": "96bb9fc4",
   "metadata": {},
   "outputs": [],
   "source": [
    "# Asumsikan anda memiliki datagrame bernama 'data' yang telah anda proses sebelumnya\n",
    "# Ganti 'data' dengan nama DataFrame yang sebenarnya\n",
    "\n",
    "# Misalkan kolom 'label' adalah kolom yang berisi label atau target\n",
    "# Kolom - kolom lainnya adalah fitur - fiturnya\n",
    "\n",
    "X = df.drop('label', axis=1) # feature\n",
    "y = df['label'] # label\n",
    "\n",
    "# Bagi data menjadi set pelatihan dan pengujian dengan proporsi 80% pelatihan dan 20% pengujian\n",
    "X_train, X_test, y_train, y_test = train_test_split(X, y, test_size=0.2, random_state=42)\n",
    "\n",
    "# Sekarang anda memiliki:\n",
    "# - X_train: Fitur untuk set pelatihan\n",
    "# - X_test: Fitur untuk set pengujian\n",
    "# - y_train: label untuk set pelatihan\n",
    "# - y_test: label untuk set pengujian"
   ]
  },
  {
   "cell_type": "markdown",
   "id": "5ff3e4a7",
   "metadata": {},
   "source": [
    "### Create Neural Network Model"
   ]
  },
  {
   "cell_type": "code",
   "execution_count": null,
   "id": "66850f45",
   "metadata": {},
   "outputs": [],
   "source": [
    "# Assuming have preprocessed data in X_train, y_train, X_test, y_test\n",
    "\n",
    "# Define model\n",
    "model = keras.Sequential([\n",
    "    layers.Dense(64, activation='relu', input_shape=(X_train.shape[1,])), # Input layer with appropriate input shape\n",
    "    layers.Dense(32, activatio='relu'), # Hidden layer\n",
    "    layers.Dense(1, activation='sigmoid') # Output layer for binary classification\n",
    "])\n",
    "\n",
    "# Compile the model\n",
    "model.compile(optimizer='adam',\n",
    "              loss='binary_crossentropy', # Choose appropriate loss function for the task\n",
    "              metrics=['accucary'])\n",
    "\n",
    "# Train the model\n",
    "model.fit(X_train, y_train, epochs=10, batch_size=12, validation_data=(X_test, y_test))\n",
    "\n",
    "# Evaluate the model\n",
    "loss, accuracy = model.evaluate(X_test, y_test)\n",
    "print(\"Test accuracy = \", accuracy)"
   ]
  },
  {
   "cell_type": "markdown",
   "id": "72c7f4dc",
   "metadata": {},
   "source": [
    "### Evaluate Model"
   ]
  },
  {
   "cell_type": "code",
   "execution_count": null,
   "id": "7a8525bf",
   "metadata": {},
   "outputs": [],
   "source": [
    "# Assuming have a trained model named 'model' and test data named 'X_test' and 'y_test'\n",
    "\n",
    "# Make Prediction on the test data\n",
    "y_pred = model.predict(X_test)\n",
    "\n",
    "# Calculate the accuracy of the model\n",
    "accuracy = accuracy_score(y_test, y_pred)\n",
    "print(\"Accuracy: \", accuracy)\n",
    "\n",
    "# Generate a classification report\n",
    "report = classification_report(y_test, y_pred)\n",
    "print(\"Classification Report:\\n\", report)"
   ]
  },
  {
   "cell_type": "markdown",
   "id": "3db9127b",
   "metadata": {},
   "source": [
    "### Model Visualization"
   ]
  },
  {
   "cell_type": "code",
   "execution_count": null,
   "id": "5d6d7ddf",
   "metadata": {},
   "outputs": [],
   "source": [
    "# Assuming have 'y_true' (true labels) and 'y_pred' (predicted labels) from your previous process\n",
    "y_true = y_test\n",
    "cm = confusion_matrix(y_true, y_pred)\n",
    "\n",
    "plt.figure(figsize=(8,6))\n",
    "sns.heatmap(cm, annot=True, fmt='d', cmap='Blues',\n",
    "            xticklabels=['Class 0', 'Class 1'],\n",
    "            yticklabels=['Class 0', 'Class 1'])\n",
    "plt.xlabel('Predicted')\n",
    "plt.ylabel('True')\n",
    "plt.title('Confusion Matrix')\n",
    "plt.show()"
   ]
  },
  {
   "cell_type": "markdown",
   "id": "de8e5cd7",
   "metadata": {},
   "source": [
    "### Using model for prediction"
   ]
  },
  {
   "cell_type": "code",
   "execution_count": null,
   "id": "085f5bf7",
   "metadata": {},
   "outputs": [],
   "source": [
    "# Assuming have a trained model named 'model' and some input data named 'X_new'\n",
    "# Replace 'model' and 'X_new' with actual model and data\n",
    "\n",
    "# Make predictions using the trained model\n",
    "X_new = X_test\n",
    "predictions = model.predict(X_new)\n",
    "\n",
    "# Print the predictions\n",
    "print(predictions)"
   ]
  },
  {
   "cell_type": "markdown",
   "id": "feb56b71",
   "metadata": {},
   "source": [
    "## Decision Tree"
   ]
  },
  {
   "cell_type": "markdown",
   "id": "ec537b8d",
   "metadata": {},
   "source": [
    "### Load Data"
   ]
  },
  {
   "cell_type": "markdown",
   "id": "8197efea",
   "metadata": {},
   "source": [
    "### Data Process"
   ]
  },
  {
   "cell_type": "markdown",
   "id": "ccb1a883",
   "metadata": {},
   "source": [
    "### Create Decision Tree Model"
   ]
  },
  {
   "cell_type": "markdown",
   "id": "2092eb48",
   "metadata": {},
   "source": [
    "### Evaluate Model"
   ]
  },
  {
   "cell_type": "markdown",
   "id": "fe46495f",
   "metadata": {},
   "source": [
    "### Model Visualization"
   ]
  },
  {
   "cell_type": "markdown",
   "id": "95a8d89f",
   "metadata": {},
   "source": [
    "### Using model for prediction"
   ]
  },
  {
   "cell_type": "markdown",
   "id": "b7f39377",
   "metadata": {},
   "source": [
    "## KMEANS"
   ]
  },
  {
   "cell_type": "markdown",
   "id": "90f181e5",
   "metadata": {},
   "source": [
    "### Load Data"
   ]
  },
  {
   "cell_type": "markdown",
   "id": "42373012",
   "metadata": {},
   "source": [
    "### Data Process"
   ]
  },
  {
   "cell_type": "markdown",
   "id": "d7897af4",
   "metadata": {},
   "source": [
    "### Create Decision Tree Model"
   ]
  },
  {
   "cell_type": "markdown",
   "id": "cb890c91",
   "metadata": {},
   "source": [
    "### Evaluate Model"
   ]
  },
  {
   "cell_type": "markdown",
   "id": "2e6410d9",
   "metadata": {},
   "source": [
    "### Model Visualization"
   ]
  },
  {
   "cell_type": "markdown",
   "id": "e7319e5d",
   "metadata": {},
   "source": [
    "### Using model for prediction"
   ]
  }
 ],
 "metadata": {
  "kernelspec": {
   "display_name": "Python 3",
   "language": "python",
   "name": "python3"
  },
  "language_info": {
   "codemirror_mode": {
    "name": "ipython",
    "version": 3
   },
   "file_extension": ".py",
   "mimetype": "text/x-python",
   "name": "python",
   "nbconvert_exporter": "python",
   "pygments_lexer": "ipython3",
   "version": "3.11.5"
  }
 },
 "nbformat": 4,
 "nbformat_minor": 5
}
