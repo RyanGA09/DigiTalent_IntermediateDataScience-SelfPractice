{
 "cells": [
  {
   "cell_type": "markdown",
   "id": "6eea047b",
   "metadata": {},
   "source": [
    "# Self Practice 5 - Evaluation of Modeling Results\n",
    "___"
   ]
  },
  {
   "cell_type": "markdown",
   "id": "3eb2e814",
   "metadata": {},
   "source": [
    "## Material\n",
    "\n",
    "### **Practice Material**\n",
    "\n",
    "- [](#)\n",
    "- [](#)\n",
    "- [](#)\n",
    "- [](#)\n",
    "- [](#)\n",
    "- [](#)\n",
    "\n",
    "### **Library Material**\n",
    "\n",
    "- Pandas\n",
    "- Scikit-Learn\n",
    "- Matplotlib\n",
    "- Seaborn"
   ]
  },
  {
   "cell_type": "markdown",
   "id": "b0371e1e",
   "metadata": {},
   "source": [
    "## Preparing Model Parameters"
   ]
  },
  {
   "cell_type": "code",
   "execution_count": null,
   "id": "58beff21",
   "metadata": {},
   "outputs": [],
   "source": [
    "# Identifikasi Parameter untuk Model\n",
    "\n",
    "print(\"Parameter yang mungkin relevan untuk model:\")\n",
    "print(\"- Fitur terpilih: \", selected_features)\n",
    "print(\"  - Parameter ini digunakan sebagai input untuk model, dipilih berdasarkan skor ANOVA F-value.\")\n",
    "print(\"- Target label: 'target_label'\")\n",
    "print(\"  - Parameter ini merupakan output yang ingin diprediksi oleh model, mewakili label jenis bunga iris.\")\n",
    "print(\"- Data setelah normalisasi dan pembersihan.\")\n",
    "print(\"  - Data yang telah dibersihkan dan dinormalisasi diharapkan meningkatkan performa model.\")\n",
    "\n",
    "# Catatan:\n",
    "# - Parameter-parameter lain yang mungkin relevan bergantung pada model yang akan digunakan.\n",
    "# - Misalnya, jika menggunakan model pohon keputusan, parameter seperti kedalaman pohon dan jumlah daun bisa dipertimbangkan.\n",
    "# - Jika menggunakan model regresi logistik, parameter seperti regularization dan learning rate bisa dipertimbangkan.\n",
    "# - Selanjutnya, Anda dapat melakukan analisis lebih lanjut terkait parameter model yang paling optimal untuk dipilih berdasarkan model yang diinginkan dan dataset yang dimiliki."
   ]
  },
  {
   "cell_type": "code",
   "execution_count": null,
   "id": "c67bcecd",
   "metadata": {},
   "outputs": [],
   "source": [
    "# Tentukan toleransi untuk parameter evaluasi pengujian\n",
    "# Berdasarkan tujuan teknis yang telah ditentukan (misalnya, akurasi minimal 95%),\n",
    "# kita dapat menetapkan toleransi sebagai selisih antara nilai target dan nilai yang diperoleh.\n",
    "\n",
    "target_accuracy = 0.95  # Target akurasi yang diinginkan\n",
    "tolerance = 0.05  # Toleransi dalam persen (misalnya, 5%)\n",
    "\n",
    "print(f\"\\nToleransi untuk evaluasi pengujian: {tolerance}\")\n",
    "print(f\"Target akurasi: {target_accuracy}\")\n",
    "\n",
    "# Catatan: \n",
    "# - Nilai toleransi ini dapat disesuaikan berdasarkan tujuan teknis dan kebutuhan proyek.\n",
    "# - Toleransi yang lebih rendah menunjukkan bahwa kita menginginkan model yang lebih akurat.\n",
    "# - Anda dapat menyesuaikan nilai target_accuracy dan tolerance sesuai kebutuhan analisis Anda."
   ]
  },
  {
   "cell_type": "markdown",
   "id": "19081f0e",
   "metadata": {},
   "source": [
    "## Selecting Modeling Tools"
   ]
  },
  {
   "cell_type": "code",
   "execution_count": null,
   "id": "3a0dd36d",
   "metadata": {},
   "outputs": [],
   "source": [
    "# Select one data science modeling software (e.g., RapidMiner, Weka, Python, or R).\n",
    "# The chosen tool is Python because Python is a flexible programming language widely used in data science. Python offers various specialized libraries for data modeling, such as scikit-learn for machine learning, pandas for data manipulation, and matplotlib and seaborn for visualization. Additionally, Python has a large community and comprehensive documentation, making it easier to find solutions and references."
   ]
  },
  {
   "cell_type": "markdown",
   "id": "794ed8ea",
   "metadata": {},
   "source": [
    "## Building Modeling Algorithms"
   ]
  },
  {
   "cell_type": "code",
   "execution_count": null,
   "id": "ddcb6106",
   "metadata": {},
   "outputs": [],
   "source": [
    "from sklearn.model_selection import train_test_split\n",
    "from sklearn.linear_model import LogisticRegression\n",
    "from sklearn.metrics import accuracy_score, classification_report\n",
    "\n",
    "# Pisahkan data menjadi data training dan testing\n",
    "X_train, X_test, y_train, y_test = train_test_split(\n",
    "    df[selected_features], df['target'], test_size=0.2, random_state=42\n",
    ")\n",
    "\n",
    "# Buat model Logistic Regression\n",
    "model = LogisticRegression(max_iter=1000)  # Menentukan jumlah iterasi maksimum\n",
    "\n",
    "# Latih model dengan data training\n",
    "model.fit(X_train, y_train)\n",
    "\n",
    "# Lakukan prediksi dengan data testing\n",
    "y_pred = model.predict(X_test)\n",
    "\n",
    "# Evaluasi model\n",
    "accuracy = accuracy_score(y_test, y_pred)\n",
    "print(f\"Akurasi model: {accuracy}\")\n",
    "print(\"\\nLaporan Klasifikasi:\")\n",
    "print(classification_report(y_test, y_pred))\n",
    "\n",
    "# Catatan hasil eksekusi dan parameter model\n",
    "print(\"\\nHasil Eksekusi:\")\n",
    "print(f\"- Algoritma yang digunakan: Logistic Regression\")\n",
    "print(f\"- Fitur yang digunakan: {selected_features}\")\n",
    "print(f\"- Akurasi model: {accuracy}\")\n",
    "print(f\"- Parameter model: max_iter={model.max_iter}\")\n",
    "print(\"- Laporan Klasifikasi:\")\n",
    "print(classification_report(y_test, y_pred))"
   ]
  },
  {
   "cell_type": "markdown",
   "id": "df0572ee",
   "metadata": {},
   "source": [
    "## Model Parameter Optimization"
   ]
  },
  {
   "cell_type": "code",
   "execution_count": null,
   "id": "9bbd8654",
   "metadata": {},
   "outputs": [],
   "source": [
    "# lakukan optimasi pada parameter model algoritma \n",
    "# untuk menghasilkan nilai parameter evaluasi yang sesuai dengan skenario pengujian.\n",
    "\n",
    "from sklearn.model_selection import GridSearchCV\n",
    "\n",
    "# Definisikan parameter yang akan dioptimalkan\n",
    "param_grid = {\n",
    "    'C': [0.001, 0.01, 0.1, 1, 10, 100],  # Parameter regularization strength\n",
    "    'solver': ['liblinear', 'lbfgs', 'saga'],  # Algoritma solver\n",
    "    'max_iter': [500, 1000, 2000]  # Jumlah iterasi maksimum\n",
    "}\n",
    "\n",
    "# Buat model Logistic Regression\n",
    "model = LogisticRegression()\n",
    "\n",
    "# Gunakan GridSearchCV untuk menemukan parameter terbaik\n",
    "grid_search = GridSearchCV(estimator=model, param_grid=param_grid, cv=5, scoring='accuracy')\n",
    "grid_search.fit(X_train, y_train)\n",
    "\n",
    "# Tampilkan parameter terbaik yang ditemukan\n",
    "print(\"Parameter terbaik:\", grid_search.best_params_)\n",
    "\n",
    "# Gunakan model dengan parameter terbaik untuk prediksi\n",
    "best_model = grid_search.best_estimator_\n",
    "y_pred = best_model.predict(X_test)\n",
    "\n",
    "# Evaluasi model dengan parameter terbaik\n",
    "accuracy = accuracy_score(y_test, y_pred)\n",
    "\n",
    "print(f\"Akurasi model dengan parameter terbaik: {accuracy}\")\n",
    "print(\"\\nLaporan Klasifikasi dengan parameter terbaik:\")\n",
    "print(classification_report(y_test, y_pred))\n",
    "\n",
    "# Periksa apakah akurasi memenuhi toleransi\n",
    "if accuracy >= target_accuracy:\n",
    "    print(\"\\nModel memenuhi toleransi akurasi yang ditentukan.\")\n",
    "else:\n",
    "    print(\"\\nModel tidak memenuhi toleransi akurasi yang ditentukan.\")\n",
    "\n",
    "# Catatan hasil eksekusi dan parameter model\n",
    "print(\"\\nHasil Eksekusi dengan Optimasi Parameter:\")\n",
    "print(f\"- Algoritma yang digunakan: Logistic Regression\")\n",
    "print(f\"- Fitur yang digunakan: {selected_features}\")\n",
    "print(f\"- Akurasi model: {accuracy}\")\n",
    "print(f\"- Parameter model terbaik: {grid_search.best_params_}\")\n",
    "print(\"- Laporan Klasifikasi:\")\n",
    "print(classification_report(y_test, y_pred))"
   ]
  },
  {
   "cell_type": "markdown",
   "id": "ec728dcf",
   "metadata": {},
   "source": [
    "## Model Testing"
   ]
  },
  {
   "cell_type": "code",
   "execution_count": null,
   "id": "d1c12138",
   "metadata": {},
   "outputs": [],
   "source": [
    "# Uji model dengan data testing\n",
    "y_pred = best_model.predict(X_test)\n",
    "\n",
    "# Evaluasi model\n",
    "accuracy = accuracy_score(y_test, y_pred)\n",
    "print(f\"Akurasi model pada data testing: {accuracy}\")\n",
    "print(\"\\nLaporan Klasifikasi pada data testing:\")\n",
    "print(classification_report(y_test, y_pred))\n",
    "\n",
    "# Catat hasil pengujian\n",
    "print(\"\\nHasil Pengujian Model:\")\n",
    "print(f\"- Akurasi: {accuracy}\")\n",
    "print(\"- Laporan Klasifikasi:\")\n",
    "print(classification_report(y_test, y_pred))\n",
    "\n",
    "# Simpan hasil pengujian ke dalam file (opsional)\n",
    "with open('hasil_pengujian_model.txt', 'w') as f:\n",
    "  f.write(f\"Akurasi: {accuracy}\\n\")\n",
    "  f.write(\"Laporan Klasifikasi:\\n\")\n",
    "  f.write(classification_report(y_test, y_pred))\n",
    "\n",
    "print(\"\\nHasil pengujian telah dicatat.\")"
   ]
  },
  {
   "cell_type": "markdown",
   "id": "c3b5fa42",
   "metadata": {},
   "source": [
    "## Evaluating Modeling Results"
   ]
  },
  {
   "cell_type": "code",
   "execution_count": null,
   "id": "b68375b3",
   "metadata": {},
   "outputs": [],
   "source": [
    "# Evaluate the model testing output based on predetermined evaluation parameters (e.g., accuracy, precision, recall, F1 score, MAE). Create a table showing these values.\n",
    "\n",
    "# Business objective achievement:\n",
    "\n",
    "# The business objective is to predict iris flower types with high accuracy. Based on this evaluation, the model has met and even exceeded expectations with 100% accuracy.\n",
    "# This model is highly suitable for applications where accurate classification of the three iris flower types is critical, such as in biological analysis or pattern recognition in botanical data processing."
   ]
  }
 ],
 "metadata": {
  "language_info": {
   "name": "python"
  }
 },
 "nbformat": 4,
 "nbformat_minor": 5
}
