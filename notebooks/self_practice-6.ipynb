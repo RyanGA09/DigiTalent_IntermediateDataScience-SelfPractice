{
 "cells": [
  {
   "cell_type": "markdown",
   "id": "6eea047b",
   "metadata": {},
   "source": [
    "# Self Practice 5 - Evaluation of Modeling Results\n",
    "___"
   ]
  },
  {
   "cell_type": "markdown",
   "id": "3eb2e814",
   "metadata": {},
   "source": [
    "## Material\n",
    "\n",
    "### **Practice Material**\n",
    "\n",
    "- [](#)\n",
    "- [](#)\n",
    "- [](#)\n",
    "- [](#)\n",
    "- [](#)\n",
    "- [](#)\n",
    "\n",
    "### **Library Material**\n",
    "\n",
    "- Pandas\n",
    "- Scikit-Learn\n",
    "- Matplotlib\n",
    "- Seaborn"
   ]
  },
  {
   "cell_type": "markdown",
   "id": "b0371e1e",
   "metadata": {},
   "source": [
    "## Preparing Model Parameters"
   ]
  },
  {
   "cell_type": "code",
   "execution_count": null,
   "id": "58beff21",
   "metadata": {},
   "outputs": [],
   "source": []
  },
  {
   "cell_type": "markdown",
   "id": "19081f0e",
   "metadata": {},
   "source": [
    "## Selecting Modeling Tools"
   ]
  },
  {
   "cell_type": "code",
   "execution_count": null,
   "id": "3a0dd36d",
   "metadata": {},
   "outputs": [],
   "source": []
  },
  {
   "cell_type": "markdown",
   "id": "794ed8ea",
   "metadata": {},
   "source": [
    "## Building Modeling Algorithms"
   ]
  },
  {
   "cell_type": "code",
   "execution_count": null,
   "id": "ddcb6106",
   "metadata": {},
   "outputs": [],
   "source": []
  },
  {
   "cell_type": "markdown",
   "id": "df0572ee",
   "metadata": {},
   "source": [
    "## Model Parameter Optimization"
   ]
  },
  {
   "cell_type": "code",
   "execution_count": null,
   "id": "9bbd8654",
   "metadata": {},
   "outputs": [],
   "source": []
  },
  {
   "cell_type": "markdown",
   "id": "ec728dcf",
   "metadata": {},
   "source": [
    "## Model Testing"
   ]
  },
  {
   "cell_type": "code",
   "execution_count": null,
   "id": "d1c12138",
   "metadata": {},
   "outputs": [],
   "source": []
  },
  {
   "cell_type": "markdown",
   "id": "c3b5fa42",
   "metadata": {},
   "source": [
    "## Evaluating Modeling Results"
   ]
  },
  {
   "cell_type": "code",
   "execution_count": null,
   "id": "b68375b3",
   "metadata": {},
   "outputs": [],
   "source": []
  }
 ],
 "metadata": {
  "language_info": {
   "name": "python"
  }
 },
 "nbformat": 4,
 "nbformat_minor": 5
}
