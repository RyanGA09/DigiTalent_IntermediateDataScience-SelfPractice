{
 "cells": [
  {
   "cell_type": "markdown",
   "id": "24f2cc62",
   "metadata": {},
   "source": [
    "# Self Practice 2\n",
    "___"
   ]
  },
  {
   "cell_type": "markdown",
   "id": "c939e78b",
   "metadata": {},
   "source": [
    "## Material\n",
    "\n",
    "### **Practice Material**\n",
    "\n",
    "- [Step 1](#step-1)\n",
    "- [Step 2](#step-2)\n",
    "- Step 3\n",
    "- Step 4\n",
    "- Step 5\n",
    "- Step 6\n",
    "\n",
    "### **Library Material**\n",
    "\n",
    "- Pandas\n",
    "- Scikit-Learn\n",
    "- Matplotlib\n",
    "- Seaborn"
   ]
  },
  {
   "cell_type": "markdown",
   "id": "8bb42b08",
   "metadata": {},
   "source": [
    "## Import Library"
   ]
  },
  {
   "cell_type": "code",
   "execution_count": null,
   "id": "3e430d65",
   "metadata": {},
   "outputs": [],
   "source": [
    "import pandas as pd\n",
    "from sklearn.datasets import load_iris\n",
    "import matplotlib.pyplot as plt\n",
    "import seaborn as sns"
   ]
  },
  {
   "cell_type": "markdown",
   "id": "e8db4468",
   "metadata": {},
   "source": [
    "## Step 1"
   ]
  },
  {
   "cell_type": "code",
   "execution_count": null,
   "id": "27e3d238",
   "metadata": {},
   "outputs": [],
   "source": [
    "# Load dataset iris\n",
    "iris = load_iris()\n",
    "df = pd.DataFrame(data=iris.data, columns=iris.feature_names)\n",
    "df['target'] = iris.target\n",
    "\n",
    "# Melihat dimensi dataset\n",
    "print(\"Dimensi dataset:\", df.shape)"
   ]
  },
  {
   "cell_type": "code",
   "execution_count": null,
   "id": "b1d665dd",
   "metadata": {},
   "outputs": [],
   "source": [
    "# Melihat 5 baris pertama dataset\n",
    "print(\"\\nLima baris pertama dataset:\\n\", df.head())"
   ]
  },
  {
   "cell_type": "code",
   "execution_count": null,
   "id": "e07c5991",
   "metadata": {},
   "outputs": [],
   "source": [
    "# Melihat informasi dataset\n",
    "print(\"\\nInformasi dataset:\\n\", df.info())"
   ]
  },
  {
   "cell_type": "code",
   "execution_count": null,
   "id": "30d16fab",
   "metadata": {},
   "outputs": [],
   "source": [
    "# Melihat deskripsi statistik dataset\n",
    "print(\"\\nDeskripsi statistik dataset:\\n\", df.describe())"
   ]
  },
  {
   "cell_type": "code",
   "execution_count": null,
   "id": "8df6a1d1",
   "metadata": {},
   "outputs": [],
   "source": [
    "# Melihat distribusi kelas target\n",
    "print(\"\\nDistribusi kelas target:\\n\", df['target'].value_counts())"
   ]
  },
  {
   "cell_type": "code",
   "execution_count": null,
   "id": "26995a7d",
   "metadata": {},
   "outputs": [],
   "source": [
    "# Melihat korelasi antar variabel\n",
    "print(\"\\nKorelasi antar variabel:\\n\", df.corr())\n",
    "\n",
    "# Analisis lebih lanjut dapat dilakukan, seperti:\n",
    "# - Visualisasi data menggunakan histogram, scatter plot, box plot, dll.\n",
    "# - Mencari missing value dan outlier\n",
    "# - Menganalisis distribusi data untuk setiap variabel\n",
    "# - dll."
   ]
  },
  {
   "cell_type": "markdown",
   "id": "a41edb44",
   "metadata": {},
   "source": [
    "## Step 2"
   ]
  },
  {
   "cell_type": "code",
   "execution_count": null,
   "id": "9469873d",
   "metadata": {},
   "outputs": [],
   "source": [
    "# Load dataset iris\n",
    "iris = load_iris()\n",
    "df = pd.DataFrame(data=iris.data, columns=iris.feature_names)\n",
    "df['target'] = iris.target\n",
    "\n",
    "# Histogram untuk setiap variabel\n",
    "df.hist(figsize=(12, 8))\n",
    "plt.show()"
   ]
  },
  {
   "cell_type": "code",
   "execution_count": null,
   "id": "7bf35085",
   "metadata": {},
   "outputs": [],
   "source": [
    "# Scatter plot untuk melihat hubungan antar variabel\n",
    "sns.pairplot(df, hue='target')\n",
    "plt.show()"
   ]
  },
  {
   "cell_type": "code",
   "execution_count": null,
   "id": "bf7c8db2",
   "metadata": {},
   "outputs": [],
   "source": [
    "# Box plot untuk melihat distribusi data untuk setiap variabel\n",
    "df.boxplot(figsize=(12, 8))\n",
    "plt.show()"
   ]
  },
  {
   "cell_type": "code",
   "execution_count": null,
   "id": "27127b6b",
   "metadata": {},
   "outputs": [],
   "source": [
    "# Violin plot untuk melihat distribusi data untuk setiap variabel dan target\n",
    "for col in iris.feature_names:\n",
    "    sns.violinplot(x='target', y=col, data=df)\n",
    "    plt.show()"
   ]
  },
  {
   "cell_type": "code",
   "execution_count": null,
   "id": "45921a09",
   "metadata": {},
   "outputs": [],
   "source": [
    "# Heatmap untuk melihat korelasi antar variabel\n",
    "plt.figure(figsize=(10, 8))\n",
    "sns.heatmap(df.corr(), annot=True, cmap='coolwarm')\n",
    "plt.show()"
   ]
  },
  {
   "cell_type": "markdown",
   "id": "dde04304",
   "metadata": {},
   "source": [
    "## Step 3"
   ]
  },
  {
   "cell_type": "code",
   "execution_count": null,
   "id": "9ddc697d",
   "metadata": {},
   "outputs": [],
   "source": []
  },
  {
   "cell_type": "markdown",
   "id": "bf1755a2",
   "metadata": {},
   "source": [
    "## Step 4"
   ]
  },
  {
   "cell_type": "code",
   "execution_count": null,
   "id": "3cf3313a",
   "metadata": {},
   "outputs": [],
   "source": []
  },
  {
   "cell_type": "markdown",
   "id": "6f38d470",
   "metadata": {},
   "source": []
  }
 ],
 "metadata": {
  "language_info": {
   "name": "python"
  }
 },
 "nbformat": 4,
 "nbformat_minor": 5
}
