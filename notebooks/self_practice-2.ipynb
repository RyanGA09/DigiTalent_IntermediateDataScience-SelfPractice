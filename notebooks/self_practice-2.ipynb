{
 "cells": [
  {
   "cell_type": "markdown",
   "id": "24f2cc62",
   "metadata": {},
   "source": [
    "# Self Practice 2\n",
    "___"
   ]
  },
  {
   "cell_type": "markdown",
   "id": "c939e78b",
   "metadata": {},
   "source": [
    "## Material"
   ]
  },
  {
   "cell_type": "code",
   "execution_count": null,
   "id": "3e430d65",
   "metadata": {},
   "outputs": [],
   "source": []
  }
 ],
 "metadata": {
  "language_info": {
   "name": "python"
  }
 },
 "nbformat": 4,
 "nbformat_minor": 5
}
