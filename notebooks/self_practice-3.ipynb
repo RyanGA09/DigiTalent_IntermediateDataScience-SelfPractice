{
 "cells": [
  {
   "cell_type": "markdown",
   "id": "24e0de3f",
   "metadata": {},
   "source": [
    "# Self Practice 3\n",
    "___"
   ]
  },
  {
   "cell_type": "markdown",
   "id": "5272ee5a",
   "metadata": {},
   "source": []
  }
 ],
 "metadata": {
  "language_info": {
   "name": "python"
  }
 },
 "nbformat": 4,
 "nbformat_minor": 5
}
