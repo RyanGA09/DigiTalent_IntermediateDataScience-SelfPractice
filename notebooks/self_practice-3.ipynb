{
 "cells": [
  {
   "cell_type": "markdown",
   "id": "24e0de3f",
   "metadata": {},
   "source": [
    "# Self Practice 3\n",
    "___"
   ]
  },
  {
   "cell_type": "markdown",
   "id": "5272ee5a",
   "metadata": {},
   "source": [
    "## Material\n",
    "\n",
    "### **Practice Material**\n",
    "\n",
    "- [Data Understanding](#data-understanding)\n",
    "- [Data Cleaning](#data-cleaning)\n",
    "- [Constructing Data](#constructing-data)\n",
    "- [Determining Data Labels](#determining-data-labels)\n",
    "- [Data Visualization](#data-visualization)\n",
    "- [Evaluation & Documentation](#evaluation--documentation)\n",
    "\n",
    "### **Library Material**\n",
    "\n",
    "- Pandas\n",
    "- Scikit-Learn\n",
    "- Matplotlib\n",
    "- Seaborn"
   ]
  },
  {
   "cell_type": "markdown",
   "id": "7330a614",
   "metadata": {},
   "source": [
    "## Import Library"
   ]
  },
  {
   "cell_type": "code",
   "execution_count": null,
   "id": "15a9ec1f",
   "metadata": {},
   "outputs": [],
   "source": [
    "import pandas as pd\n",
    "from sklearn.datasets import load_iris\n",
    "from sklearn.preprocessing import MinMaxScaler\n",
    "from sklearn.feature_selection import SelectKBest, f_classif\n",
    "import matplotlib.pyplot as plt\n",
    "import seaborn as sns"
   ]
  },
  {
   "cell_type": "markdown",
   "id": "dedc13b0",
   "metadata": {},
   "source": [
    "## Data Understanding"
   ]
  },
  {
   "cell_type": "code",
   "execution_count": null,
   "id": "676cd760",
   "metadata": {},
   "outputs": [],
   "source": [
    "# Muat dataset iris\n",
    "iris = load_iris()\n",
    "df = pd.DataFrame(data=iris.data, columns=iris.feature_names)\n",
    "df['target'] = iris.target\n",
    "\n",
    "# Identifikasi jumlah data\n",
    "print(\"Jumlah data:\", df.shape[0])"
   ]
  },
  {
   "cell_type": "code",
   "execution_count": null,
   "id": "81ccfd24",
   "metadata": {},
   "outputs": [],
   "source": [
    "# Identifikasi tipe data\n",
    "print(\"\\nTipe data:\")\n",
    "print(df.dtypes)"
   ]
  },
  {
   "cell_type": "code",
   "execution_count": null,
   "id": "b56f6ddf",
   "metadata": {},
   "outputs": [],
   "source": [
    "# Identifikasi nilai yang hilang\n",
    "print(\"\\nJumlah nilai yang hilang:\")\n",
    "print(df.isnull().sum())"
   ]
  },
  {
   "cell_type": "code",
   "execution_count": null,
   "id": "00632d95",
   "metadata": {},
   "outputs": [],
   "source": [
    "# Identifikasi outlier (menggunakan IQR)\n",
    "for column in df.columns[:-1]:  # Loop melalui fitur numerik\n",
    "  Q1 = df[column].quantile(0.25)\n",
    "  Q3 = df[column].quantile(0.75)\n",
    "  IQR = Q3 - Q1\n",
    "  lower_bound = Q1 - 1.5 * IQR\n",
    "  upper_bound = Q3 + 1.5 * IQR\n",
    "  outliers = df[(df[column] < lower_bound) | (df[column] > upper_bound)]\n",
    "  print(f\"\\nOutlier pada kolom {column}:\")\n",
    "  print(outliers)"
   ]
  },
  {
   "cell_type": "code",
   "execution_count": null,
   "id": "195ad349",
   "metadata": {},
   "outputs": [],
   "source": [
    "# Deskripsi statistik data\n",
    "print(\"\\nDeskripsi statistik:\")\n",
    "print(df.describe())"
   ]
  },
  {
   "cell_type": "markdown",
   "id": "375bbf71",
   "metadata": {},
   "source": [
    "## Data Cleaning"
   ]
  },
  {
   "cell_type": "code",
   "execution_count": null,
   "id": "ce62c40e",
   "metadata": {},
   "outputs": [],
   "source": [
    "# Muat dataset iris\n",
    "iris = load_iris()\n",
    "df = pd.DataFrame(data=iris.data, columns=iris.feature_names)\n",
    "df['target'] = iris.target\n",
    "\n",
    "# Identifikasi jumlah data\n",
    "print(\"Jumlah data:\", df.shape[0])"
   ]
  },
  {
   "cell_type": "code",
   "execution_count": null,
   "id": "cfd87100",
   "metadata": {},
   "outputs": [],
   "source": [
    "# Identifikasi tipe data\n",
    "print(\"\\nTipe data:\")\n",
    "print(df.dtypes)"
   ]
  },
  {
   "cell_type": "code",
   "execution_count": null,
   "id": "12bfe418",
   "metadata": {},
   "outputs": [],
   "source": [
    "# Identifikasi nilai yang hilang\n",
    "print(\"\\nJumlah nilai yang hilang:\")\n",
    "print(df.isnull().sum())"
   ]
  },
  {
   "cell_type": "code",
   "execution_count": null,
   "id": "ae68f893",
   "metadata": {},
   "outputs": [],
   "source": [
    "# Identifikasi outlier (menggunakan IQR)\n",
    "for column in df.columns[:-1]:  # Loop melalui fitur numerik\n",
    "  Q1 = df[column].quantile(0.25)\n",
    "  Q3 = df[column].quantile(0.75)\n",
    "  IQR = Q3 - Q1\n",
    "  lower_bound = Q1 - 1.5 * IQR\n",
    "  upper_bound = Q3 + 1.5 * IQR\n",
    "  outliers = df[(df[column] < lower_bound) | (df[column] > upper_bound)]\n",
    "  print(f\"\\nOutlier pada kolom {column}:\")\n",
    "  print(outliers)"
   ]
  },
  {
   "cell_type": "code",
   "execution_count": null,
   "id": "4025be05",
   "metadata": {},
   "outputs": [],
   "source": [
    "# Deskripsi statistik data\n",
    "print(\"\\nDeskripsi statistik:\")\n",
    "print(df.describe())"
   ]
  },
  {
   "cell_type": "code",
   "execution_count": null,
   "id": "b4d7fdc7",
   "metadata": {},
   "outputs": [],
   "source": [
    "# Pembersihan data\n",
    "# 1. Pengisian nilai yang hilang (jika ada)\n",
    "# Dalam dataset iris, tidak ada nilai yang hilang, jadi bagian ini bisa dilewati.\n",
    "# Namun, jika ada, Anda bisa menggunakan:\n",
    "# df['sepal length (cm)'].fillna(df['sepal length (cm)'].mean(), inplace=True) \n",
    "# df['sepal width (cm)'].fillna(df['sepal width (cm)'].median(), inplace=True)\n",
    "# df['petal length (cm)'].fillna(df['petal length (cm)'].mode()[0], inplace=True)\n",
    "\n",
    "# 2. Menghapus baris dengan data yang salah (jika ada)\n",
    "# Dalam dataset iris, tidak ada data yang salah secara jelas.\n",
    "# Namun, jika ada, Anda bisa menggunakan:\n",
    "# df.drop(df[df['sepal length (cm)'] < 0].index, inplace=True)\n",
    "\n",
    "# 3. Mengoreksi nilai outlier\n",
    "for column in df.columns[:-1]:\n",
    "  Q1 = df[column].quantile(0.25)\n",
    "  Q3 = df[column].quantile(0.75)\n",
    "  IQR = Q3 - Q1\n",
    "  lower_bound = Q1 - 1.5 * IQR\n",
    "  upper_bound = Q3 + 1.5 * IQR\n",
    "  df[column] = df[column].clip(lower_bound, upper_bound)\n",
    "\n",
    "# Setelah pembersihan data\n",
    "print(\"\\nDeskripsi statistik setelah pembersihan:\")\n",
    "print(df.describe())"
   ]
  },
  {
   "cell_type": "markdown",
   "id": "9bb5649a",
   "metadata": {},
   "source": [
    "## Constructing Data"
   ]
  },
  {
   "cell_type": "code",
   "execution_count": null,
   "id": "746e32ed",
   "metadata": {},
   "outputs": [],
   "source": [
    "# Muat dataset iris\n",
    "iris = load_iris()\n",
    "df = pd.DataFrame(data=iris.data, columns=iris.feature_names)\n",
    "df['target'] = iris.target\n",
    "\n",
    "# 1. Normalisasi data\n",
    "# Normalisasi dilakukan menggunakan MinMaxScaler untuk mengubah rentang nilai fitur menjadi 0-1.\n",
    "scaler = MinMaxScaler()\n",
    "numerical_features = ['sepal length (cm)', 'sepal width (cm)', 'petal length (cm)', 'petal width (cm)']\n",
    "df[numerical_features] = scaler.fit_transform(df[numerical_features])\n",
    "print(\"\\nData setelah normalisasi:\")\n",
    "print(df.head())"
   ]
  },
  {
   "cell_type": "code",
   "execution_count": null,
   "id": "5683d87a",
   "metadata": {},
   "outputs": [],
   "source": [
    "# 2. Pemilihan fitur\n",
    "# Menggunakan SelectKBest untuk memilih 2 fitur terbaik berdasarkan skor ANOVA F-value.\n",
    "X = df.drop('target', axis=1)\n",
    "y = df['target']\n",
    "selector = SelectKBest(score_func=f_classif, k=2)\n",
    "X_new = selector.fit_transform(X, y)\n",
    "selected_features = X.columns[selector.get_support()]\n",
    "print(\"\\nFitur terpilih:\", selected_features)"
   ]
  },
  {
   "cell_type": "code",
   "execution_count": null,
   "id": "110d6be8",
   "metadata": {},
   "outputs": [],
   "source": [
    "# 3. Binning\n",
    "# Binning dilakukan pada fitur 'petal length (cm)' untuk mengelompokkan data menjadi beberapa kategori.\n",
    "df['petal_length_binned'] = pd.cut(df['petal length (cm)'], bins=3, labels=['rendah', 'sedang', 'tinggi'])\n",
    "print(\"\\nData setelah binning:\")\n",
    "print(df.head())"
   ]
  },
  {
   "cell_type": "markdown",
   "id": "4b8d4c64",
   "metadata": {},
   "source": [
    "## Determining Data Labels"
   ]
  },
  {
   "cell_type": "code",
   "execution_count": null,
   "id": "5fbff0e3",
   "metadata": {},
   "outputs": [],
   "source": [
    "# Identifikasi data target dan lakukan pelabelan\n",
    "# Dalam dataset iris, kolom 'target' sudah mewakili label kelas (0, 1, 2).\n",
    "# Namun, jika diperlukan pelabelan yang lebih spesifik berdasarkan SOP,\n",
    "# kita bisa melakukan mapping label sesuai dengan kebutuhan.\n",
    "\n",
    "# Misalnya, jika SOP menentukan bahwa:\n",
    "# - target 0: Setosa\n",
    "# - target 1: Versicolor\n",
    "# - target 2: Virginica\n",
    "# Kita bisa membuat mapping label seperti ini:\n",
    "\n",
    "label_mapping = {\n",
    "    0: 'Setosa',\n",
    "    1: 'Versicolor',\n",
    "    2: 'Virginica'\n",
    "}\n",
    "\n",
    "# Buat kolom baru 'target_label' yang berisi label teks\n",
    "df['target_label'] = df['target'].map(label_mapping)\n",
    "\n",
    "# Tampilkan data dengan label baru\n",
    "print(\"\\nData dengan label berdasarkan SOP:\")\n",
    "print(df.head())"
   ]
  },
  {
   "cell_type": "code",
   "execution_count": null,
   "id": "c4e4b1bd",
   "metadata": {},
   "outputs": [],
   "source": [
    "# Load Dataset Iris\n",
    "iris = load_iris()\n",
    "df = pd.DataFrame(data=iris.data, columns=iris.feature_names)\n",
    "df['target'] = iris.target\n",
    "\n",
    "# Identifikasi Data\n",
    "print(\"Jumlah data:\", df.shape[0])"
   ]
  },
  {
   "cell_type": "code",
   "execution_count": null,
   "id": "cf8b09ef",
   "metadata": {},
   "outputs": [],
   "source": [
    "print(\"\\nTipe data:\")\n",
    "print(df.dtypes)"
   ]
  },
  {
   "cell_type": "code",
   "execution_count": null,
   "id": "ef875024",
   "metadata": {},
   "outputs": [],
   "source": [
    "print(\"\\nJumlah nilai yang hilang:\")\n",
    "print(df.isnull().sum())"
   ]
  },
  {
   "cell_type": "code",
   "execution_count": null,
   "id": "cee3517e",
   "metadata": {},
   "outputs": [],
   "source": [
    "# Identifikasi Outlier (IQR) \n",
    "for column in df.columns[:-1]:  # Fitur numerik\n",
    "    Q1 = df[column].quantile(0.25)\n",
    "    Q3 = df[column].quantile(0.75)\n",
    "    IQR = Q3 - Q1\n",
    "    lower_bound = Q1 - 1.5 * IQR\n",
    "    upper_bound = Q3 + 1.5 * IQR\n",
    "    outliers = df[(df[column] < lower_bound) | (df[column] > upper_bound)]\n",
    "    print(f\"\\nOutlier pada kolom {column}:\")\n",
    "    print(outliers)"
   ]
  },
  {
   "cell_type": "code",
   "execution_count": null,
   "id": "f5a32948",
   "metadata": {},
   "outputs": [],
   "source": [
    "# Deskripsi Statistik Sebelum Pembersihan\n",
    "print(\"\\nDeskripsi statistik:\")\n",
    "print(df.describe())"
   ]
  },
  {
   "cell_type": "code",
   "execution_count": null,
   "id": "40c6ed0e",
   "metadata": {},
   "outputs": [],
   "source": [
    "# Pembersihan Data\n",
    "\n",
    "# 1. (Opsional) Pengisian nilai yang hilang — tidak dilakukan karena data lengkap\n",
    "\n",
    "# 2. (Opsional) Hapus data tidak logis — tidak dilakukan karena tidak ditemukan\n",
    "\n",
    "# 3. Koreksi nilai outlier dengan clipping\n",
    "for column in df.columns[:-1]:\n",
    "    Q1 = df[column].quantile(0.25)\n",
    "    Q3 = df[column].quantile(0.75)\n",
    "    IQR = Q3 - Q1\n",
    "    lower_bound = Q1 - 1.5 * IQR\n",
    "    upper_bound = Q3 + 1.5 * IQR\n",
    "    df[column] = df[column].clip(lower_bound, upper_bound)\n",
    "\n",
    "# Deskripsi Statistik Setelah Pembersihan\n",
    "print(\"\\nDeskripsi statistik setelah pembersihan:\")\n",
    "print(df.describe())"
   ]
  },
  {
   "cell_type": "code",
   "execution_count": null,
   "id": "001cacd1",
   "metadata": {},
   "outputs": [],
   "source": [
    "# Normalisasi Data\n",
    "scaler = MinMaxScaler()\n",
    "numerical_features = ['sepal length (cm)', 'sepal width (cm)', 'petal length (cm)', 'petal width (cm)']\n",
    "df[numerical_features] = scaler.fit_transform(df[numerical_features])\n",
    "\n",
    "print(\"\\nData setelah normalisasi:\")\n",
    "print(df.head())"
   ]
  },
  {
   "cell_type": "code",
   "execution_count": null,
   "id": "1b1cb449",
   "metadata": {},
   "outputs": [],
   "source": [
    "# Pemilihan Fitur (Feature Selection) \n",
    "X = df.drop('target', axis=1)\n",
    "y = df['target']\n",
    "selector = SelectKBest(score_func=f_classif, k=2)\n",
    "X_new = selector.fit_transform(X, y)\n",
    "selected_features = X.columns[selector.get_support()]\n",
    "\n",
    "print(\"\\nFitur terpilih:\", selected_features)"
   ]
  },
  {
   "cell_type": "code",
   "execution_count": null,
   "id": "e022eebf",
   "metadata": {},
   "outputs": [],
   "source": [
    "# Binning pada 'petal length (cm)'\n",
    "df['petal_length_binned'] = pd.cut(df['petal length (cm)'], bins=3, labels=['rendah', 'sedang', 'tinggi'])\n",
    "\n",
    "print(\"\\nData setelah binning:\")\n",
    "print(df.head())"
   ]
  },
  {
   "cell_type": "code",
   "execution_count": null,
   "id": "7662d3dc",
   "metadata": {},
   "outputs": [],
   "source": [
    "# Mapping Label Target\n",
    "label_mapping = {\n",
    "    0: 'Setosa',\n",
    "    1: 'Versicolor',\n",
    "    2: 'Virginica'\n",
    "}\n",
    "df['target_label'] = df['target'].map(label_mapping)\n",
    "\n",
    "print(\"\\nData dengan label berdasarkan SOP:\")\n",
    "print(df.head())"
   ]
  },
  {
   "cell_type": "markdown",
   "id": "5cd7f8e2",
   "metadata": {},
   "source": [
    "## Data Visualization"
   ]
  },
  {
   "cell_type": "code",
   "execution_count": null,
   "id": "6f0539a1",
   "metadata": {},
   "outputs": [],
   "source": [
    "# Histogram untuk melihat distribusi data setelah pembersihan\n",
    "# Adjust the subplot grid to accommodate all columns\n",
    "num_cols = len(df.columns[:-2])\n",
    "num_rows = (num_cols + 1) // 2  # Calculate rows needed\n",
    "plt.figure(figsize=(12, 6 * num_rows)) # Adjust figure height \n",
    "\n",
    "for i, column in enumerate(df.columns[:-2]):  # Loop melalui fitur numerik\n",
    "  plt.subplot(num_rows, 2, i + 1)  # Use calculated rows and cols\n",
    "  sns.histplot(df[column], kde=True)\n",
    "  plt.title(f'Distribusi {column}')\n",
    "plt.tight_layout()\n",
    "plt.show()"
   ]
  },
  {
   "cell_type": "code",
   "execution_count": null,
   "id": "fe12f7b5",
   "metadata": {},
   "outputs": [],
   "source": [
    "# Scatter plot untuk melihat hubungan antara dua fitur terpilih\n",
    "plt.figure(figsize=(8, 6))\n",
    "sns.scatterplot(x=df[selected_features[0]], y=df[selected_features[1]], hue=df['target_label'])\n",
    "plt.title(f'Hubungan antara {selected_features[0]} dan {selected_features[1]}')\n",
    "plt.show()"
   ]
  },
  {
   "cell_type": "code",
   "execution_count": null,
   "id": "8c08b2d8",
   "metadata": {},
   "outputs": [],
   "source": [
    "# Box plot untuk melihat distribusi data sebelum dan sesudah normalisasi\n",
    "plt.figure(figsize=(12, 6))\n",
    "for i, column in enumerate(numerical_features):\n",
    "  plt.subplot(2, 2, i + 1)\n",
    "  sns.boxplot(data=df, y=column)\n",
    "  plt.title(f'Box plot {column}')\n",
    "plt.tight_layout()\n",
    "plt.show()"
   ]
  },
  {
   "cell_type": "code",
   "execution_count": null,
   "id": "f261e8a2",
   "metadata": {},
   "outputs": [],
   "source": [
    "# Histogram untuk melihat distribusi data setelah binning\n",
    "plt.figure(figsize=(8, 6))\n",
    "sns.histplot(df['petal_length_binned'], kde=False)\n",
    "plt.title('Distribusi Petal Length setelah Binning')\n",
    "plt.show()"
   ]
  },
  {
   "cell_type": "code",
   "execution_count": null,
   "id": "112c9d6d",
   "metadata": {},
   "outputs": [],
   "source": [
    "# Load Dataset Iris\n",
    "iris = load_iris()\n",
    "df = pd.DataFrame(data=iris.data, columns=iris.feature_names)\n",
    "df['target'] = iris.target\n",
    "\n",
    "# Identifikasi Data\n",
    "print(\"Jumlah data:\", df.shape[0])"
   ]
  },
  {
   "cell_type": "code",
   "execution_count": null,
   "id": "5f021bec",
   "metadata": {},
   "outputs": [],
   "source": [
    "print(\"\\nTipe data:\")\n",
    "print(df.dtypes)"
   ]
  },
  {
   "cell_type": "code",
   "execution_count": null,
   "id": "b557bcf1",
   "metadata": {},
   "outputs": [],
   "source": [
    "print(\"\\nJumlah nilai yang hilang:\")\n",
    "print(df.isnull().sum())"
   ]
  },
  {
   "cell_type": "code",
   "execution_count": null,
   "id": "c9b8803c",
   "metadata": {},
   "outputs": [],
   "source": [
    "# Identifikasi Outlier (IQR) \n",
    "for column in df.columns[:-1]:  # Fitur numerik\n",
    "    Q1 = df[column].quantile(0.25)\n",
    "    Q3 = df[column].quantile(0.75)\n",
    "    IQR = Q3 - Q1\n",
    "    lower_bound = Q1 - 1.5 * IQR\n",
    "    upper_bound = Q3 + 1.5 * IQR\n",
    "    outliers = df[(df[column] < lower_bound) | (df[column] > upper_bound)]\n",
    "    print(f\"\\nOutlier pada kolom {column}:\")\n",
    "    print(outliers)"
   ]
  },
  {
   "cell_type": "code",
   "execution_count": null,
   "id": "e5be39c3",
   "metadata": {},
   "outputs": [],
   "source": [
    "# Deskripsi Statistik Sebelum Pembersihan\n",
    "print(\"\\nDeskripsi statistik:\")\n",
    "print(df.describe())"
   ]
  },
  {
   "cell_type": "code",
   "execution_count": null,
   "id": "4d058f17",
   "metadata": {},
   "outputs": [],
   "source": [
    "# Pembersihan Data\n",
    "\n",
    "# 1. (Opsional) Pengisian nilai yang hilang — tidak dilakukan karena data lengkap\n",
    "\n",
    "# 2. (Opsional) Hapus data tidak logis — tidak dilakukan karena tidak ditemukan\n",
    "\n",
    "# 3. Koreksi nilai outlier dengan clipping\n",
    "for column in df.columns[:-1]:\n",
    "    Q1 = df[column].quantile(0.25)\n",
    "    Q3 = df[column].quantile(0.75)\n",
    "    IQR = Q3 - Q1\n",
    "    lower_bound = Q1 - 1.5 * IQR\n",
    "    upper_bound = Q3 + 1.5 * IQR\n",
    "    df[column] = df[column].clip(lower_bound, upper_bound)\n",
    "\n",
    "# Deskripsi Statistik Setelah Pembersihan\n",
    "print(\"\\nDeskripsi statistik setelah pembersihan:\")\n",
    "print(df.describe())"
   ]
  },
  {
   "cell_type": "code",
   "execution_count": null,
   "id": "d854261e",
   "metadata": {},
   "outputs": [],
   "source": [
    "# Normalisasi Data\n",
    "scaler = MinMaxScaler()\n",
    "numerical_features = ['sepal length (cm)', 'sepal width (cm)', 'petal length (cm)', 'petal width (cm)']\n",
    "df[numerical_features] = scaler.fit_transform(df[numerical_features])\n",
    "\n",
    "print(\"\\nData setelah normalisasi:\")\n",
    "print(df.head())"
   ]
  },
  {
   "cell_type": "code",
   "execution_count": null,
   "id": "64151736",
   "metadata": {},
   "outputs": [],
   "source": [
    "# Pemilihan Fitur (Feature Selection) \n",
    "X = df.drop('target', axis=1)\n",
    "y = df['target']\n",
    "selector = SelectKBest(score_func=f_classif, k=2)\n",
    "X_new = selector.fit_transform(X, y)\n",
    "selected_features = X.columns[selector.get_support()]\n",
    "\n",
    "print(\"\\nFitur terpilih:\", selected_features)"
   ]
  },
  {
   "cell_type": "code",
   "execution_count": null,
   "id": "c0a532f4",
   "metadata": {},
   "outputs": [],
   "source": [
    "# Binning pada 'petal length (cm)'\n",
    "df['petal_length_binned'] = pd.cut(df['petal length (cm)'], bins=3, labels=['rendah', 'sedang', 'tinggi'])\n",
    "\n",
    "print(\"\\nData setelah binning:\")\n",
    "print(df.head())"
   ]
  },
  {
   "cell_type": "code",
   "execution_count": null,
   "id": "8f40d38f",
   "metadata": {},
   "outputs": [],
   "source": [
    "# Mapping Label Target\n",
    "label_mapping = {\n",
    "    0: 'Setosa',\n",
    "    1: 'Versicolor',\n",
    "    2: 'Virginica'\n",
    "}\n",
    "df['target_label'] = df['target'].map(label_mapping)\n",
    "\n",
    "print(\"\\nData dengan label berdasarkan SOP:\")\n",
    "print(df.head())"
   ]
  },
  {
   "cell_type": "code",
   "execution_count": null,
   "id": "a4781d21",
   "metadata": {},
   "outputs": [],
   "source": [
    "# Histogram untuk melihat distribusi data setelah pembersihan\n",
    "# Adjust the subplot grid to accommodate all columns\n",
    "num_cols = len(df.columns[:-2])\n",
    "num_rows = (num_cols + 1) // 2  # Calculate rows needed\n",
    "plt.figure(figsize=(12, 6 * num_rows)) # Adjust figure height \n",
    "\n",
    "for i, column in enumerate(df.columns[:-2]):  # Loop melalui fitur numerik\n",
    "  plt.subplot(num_rows, 2, i + 1)  # Use calculated rows and cols\n",
    "  sns.histplot(df[column], kde=True)\n",
    "  plt.title(f'Distribusi {column}')\n",
    "plt.tight_layout()\n",
    "plt.show()"
   ]
  },
  {
   "cell_type": "code",
   "execution_count": null,
   "id": "71ae40b4",
   "metadata": {},
   "outputs": [],
   "source": [
    "# Scatter plot untuk melihat hubungan antara dua fitur terpilih\n",
    "plt.figure(figsize=(8, 6))\n",
    "sns.scatterplot(x=df[selected_features[0]], y=df[selected_features[1]], hue=df['target_label'])\n",
    "plt.title(f'Hubungan antara {selected_features[0]} dan {selected_features[1]}')\n",
    "plt.show()"
   ]
  },
  {
   "cell_type": "code",
   "execution_count": null,
   "id": "6e2786cd",
   "metadata": {},
   "outputs": [],
   "source": [
    "# Box plot untuk melihat distribusi data sebelum dan sesudah normalisasi\n",
    "plt.figure(figsize=(12, 6))\n",
    "for i, column in enumerate(numerical_features):\n",
    "  plt.subplot(2, 2, i + 1)\n",
    "  sns.boxplot(data=df, y=column)\n",
    "  plt.title(f'Box plot {column}')\n",
    "plt.tight_layout()\n",
    "plt.show()"
   ]
  },
  {
   "cell_type": "code",
   "execution_count": null,
   "id": "64455897",
   "metadata": {},
   "outputs": [],
   "source": [
    "# Histogram untuk melihat distribusi data setelah binning\n",
    "plt.figure(figsize=(8, 6))\n",
    "sns.histplot(df['petal_length_binned'], kde=False)\n",
    "plt.title('Distribusi Petal Length setelah Binning')\n",
    "plt.show()"
   ]
  },
  {
   "cell_type": "markdown",
   "id": "e122dcb2",
   "metadata": {},
   "source": [
    "## Evaluation & Documentation"
   ]
  },
  {
   "cell_type": "code",
   "execution_count": null,
   "id": "9aadec0a",
   "metadata": {},
   "outputs": [],
   "source": [
    "print(\"\\nStatistik Deskriptif Data Setelah Pembersihan:\")\n",
    "print(df.describe())"
   ]
  }
 ],
 "metadata": {
  "language_info": {
   "name": "python"
  }
 },
 "nbformat": 4,
 "nbformat_minor": 5
}
