{
 "cells": [
  {
   "cell_type": "markdown",
   "id": "24e0de3f",
   "metadata": {},
   "source": [
    "# Self Practice 3\n",
    "___"
   ]
  },
  {
   "cell_type": "markdown",
   "id": "5272ee5a",
   "metadata": {},
   "source": [
    "## Material"
   ]
  },
  {
   "cell_type": "code",
   "execution_count": null,
   "id": "15a9ec1f",
   "metadata": {},
   "outputs": [],
   "source": []
  }
 ],
 "metadata": {
  "language_info": {
   "name": "python"
  }
 },
 "nbformat": 4,
 "nbformat_minor": 5
}
