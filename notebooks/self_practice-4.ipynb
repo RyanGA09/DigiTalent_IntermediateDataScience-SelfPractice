{
 "cells": [
  {
   "cell_type": "markdown",
   "id": "33102648",
   "metadata": {},
   "source": [
    "# Self Practice 4\n",
    "___"
   ]
  },
  {
   "cell_type": "markdown",
   "id": "2142fd73",
   "metadata": {},
   "source": []
  }
 ],
 "metadata": {
  "language_info": {
   "name": "python"
  }
 },
 "nbformat": 4,
 "nbformat_minor": 5
}
