{
 "cells": [
  {
   "cell_type": "markdown",
   "id": "33102648",
   "metadata": {},
   "source": [
    "# Self Practice 4\n",
    "___"
   ]
  },
  {
   "cell_type": "markdown",
   "id": "2142fd73",
   "metadata": {},
   "source": [
    "## Material"
   ]
  },
  {
   "cell_type": "code",
   "execution_count": null,
   "id": "a5f812af",
   "metadata": {},
   "outputs": [],
   "source": []
  }
 ],
 "metadata": {
  "language_info": {
   "name": "python"
  }
 },
 "nbformat": 4,
 "nbformat_minor": 5
}
